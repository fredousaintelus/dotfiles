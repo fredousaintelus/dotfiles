{
  "cells": [
    {
      "cell_type": "markdown",
      "metadata": {
        "id": "view-in-github",
        "colab_type": "text"
      },
      "source": [
        "<a href=\"https://colab.research.google.com/github/fredousaintelus/dotfiles/blob/master/game_random_number.ipynb\" target=\"_parent\"><img src=\"https://colab.research.google.com/assets/colab-badge.svg\" alt=\"Open In Colab\"/></a>"
      ]
    },
    {
      "cell_type": "code",
      "execution_count": 5,
      "metadata": {
        "id": "U8_aPkV0MP1N"
      },
      "outputs": [],
      "source": [
        "import random"
      ]
    },
    {
      "cell_type": "code",
      "execution_count": 44,
      "metadata": {
        "id": "JuezmGxdMVnh"
      },
      "outputs": [],
      "source": [
        "def first_phrase():\n",
        "  print(\"\"\"Hi! Let us play a little game.\n",
        "  We'll start with you tring to guess a number between 1 and 10 that I will pick randomly, alright.\"\"\")\n",
        "\n",
        "def second_phrase()-> str:\n",
        "  response = input('So, do you wanna keep on? (Yes or No) ')\n",
        "  return response\n",
        "\n",
        "def choosing_level():\n",
        "    rep = input(\"\"\"Choose:\n",
        "    1 for easy level\n",
        "    2 for medium level\n",
        "    3 for difficult level \"\"\")\n",
        "    while rep not in [\"1\",\"2\",\"3\"]:\n",
        "      rep = input(\"\"\"Wrong entry! Please Choose:\n",
        "    1 for easy level\n",
        "    2 for medium level\n",
        "    3 for difficult level \"\"\")\n",
        "    return rep\n",
        "\n",
        "\n",
        "\n",
        "def limiting_try()-> int:\n",
        "  limit =1\n",
        "  choice = choosing_level()\n",
        "  if choice== \"1\":\n",
        "     limit = 10\n",
        "     print(f\"You've chosen to play it easy, you have {limit} guesses!\")\n",
        "  elif choice == \"2\":\n",
        "      limit =5\n",
        "      print(f\"You've chosen to play it medium, you have {limit} guesses!\")\n",
        "  else:\n",
        "      limit =3\n",
        "      print(f\"You've chosen to play it hard, you have only {limit} guesses!\")\n",
        "  return limit\n",
        "\n",
        "def random_number()-> int:\n",
        "  return random.randint(1, 10)\n",
        "\n",
        "def number_giving():\n",
        "  rep =int(input('Ready? Please enter a number between 1 to 10: '))\n",
        "  return rep\n",
        "\n",
        "\n",
        "\n",
        "\n",
        "def comparison():\n",
        "  compteur =1\n",
        "  limit = limiting_try()\n",
        "  rd = random_number()\n",
        "  giving = number_giving()\n",
        "  while (giving != rd):\n",
        "    if ( giving < rd <= 10) and (compteur <=limit-1) :\n",
        "      giving =int(input('You guessed wrong, please enter a greater number : '))\n",
        "      compteur= compteur+1\n",
        "    elif (10>= giving > rd)and (compteur <= limit-1) :\n",
        "      giving =int(input('You guessed wrong, please enter a smaller number : '))\n",
        "      compteur= compteur+1\n",
        "    elif (compteur >limit-1):\n",
        "      print(\"\"\"sorry, you guessed wrong and you have exhausted your number of tries!\n",
        "      End of the game\"\"\")\n",
        "      break\n",
        "    else:\n",
        "      giving =int((input('You went out of range, please enter a number between 1 and 10 : ')))\n",
        "      compteur= compteur+1\n",
        "\n",
        "  if giving == rd:\n",
        "    print(\"\"\"You guessed right, congrats.\n",
        "  End of the game!\"\"\")\n"
      ]
    },
    {
      "cell_type": "code",
      "execution_count": 45,
      "metadata": {
        "id": "_bykpI8TMYjC"
      },
      "outputs": [],
      "source": [
        "def combination ():\n",
        "  first_phrase()\n",
        "  rp = second_phrase()\n",
        "  while rp.lower() not in (\"yes\",\"y\",\"n\",\"no\"):\n",
        "    rp = input(\"Please enter yes[y] or no[n]\")\n",
        "\n",
        "  if rp.lower() == \"yes\" or rp.lower() == \"y\":\n",
        "    comparison()\n",
        "  elif rp.lower() == \"no\" or rp.lower() == \"n\":\n",
        "    print(\"Too bad you can't play, maybe another time!\")"
      ]
    },
    {
      "cell_type": "code",
      "execution_count": 46,
      "metadata": {
        "colab": {
          "base_uri": "https://localhost:8080/",
          "height": 599
        },
        "id": "mwAXrOLuMby1",
        "outputId": "436f3a1c-e688-44bf-a712-8823220c81e8"
      },
      "outputs": [
        {
          "name": "stdout",
          "output_type": "stream",
          "text": [
            "Hi! Let us play a little game.\n",
            "  We'll start with you tring to guess a number between 1 and 10 that I will pick randomly, alright.\n",
            "So, do you wanna keep on? (Yes or No) v\n",
            "Please enter yes[y] or no[n]y\n",
            "Choose:\n",
            "    1 for easy level\n",
            "    2 for medium level\n",
            "    3 for difficult level t\n",
            "Wrong entry! Please Choose:\n",
            "    1 for easy level\n",
            "    2 for medium level\n",
            "    3 for difficult level 6\n",
            "Wrong entry! Please Choose:\n",
            "    1 for easy level\n",
            "    2 for medium level\n",
            "    3 for difficult level 3\n",
            "You've chosen to play it hard, you have only 3 guesses!\n",
            "Ready? Please enter a number between 1 to 10: f\n"
          ]
        },
        {
          "output_type": "error",
          "ename": "ValueError",
          "evalue": "invalid literal for int() with base 10: 'f'",
          "traceback": [
            "\u001b[0;31m---------------------------------------------------------------------------\u001b[0m",
            "\u001b[0;31mValueError\u001b[0m                                Traceback (most recent call last)",
            "\u001b[0;32m<ipython-input-46-8a5c43c3049e>\u001b[0m in \u001b[0;36m<cell line: 1>\u001b[0;34m()\u001b[0m\n\u001b[0;32m----> 1\u001b[0;31m \u001b[0mcombination\u001b[0m\u001b[0;34m(\u001b[0m\u001b[0;34m)\u001b[0m\u001b[0;34m\u001b[0m\u001b[0;34m\u001b[0m\u001b[0m\n\u001b[0m",
            "\u001b[0;32m<ipython-input-45-f5bb0d73814c>\u001b[0m in \u001b[0;36mcombination\u001b[0;34m()\u001b[0m\n\u001b[1;32m      6\u001b[0m \u001b[0;34m\u001b[0m\u001b[0m\n\u001b[1;32m      7\u001b[0m   \u001b[0;32mif\u001b[0m \u001b[0mrp\u001b[0m\u001b[0;34m.\u001b[0m\u001b[0mlower\u001b[0m\u001b[0;34m(\u001b[0m\u001b[0;34m)\u001b[0m \u001b[0;34m==\u001b[0m \u001b[0;34m\"yes\"\u001b[0m \u001b[0;32mor\u001b[0m \u001b[0mrp\u001b[0m\u001b[0;34m.\u001b[0m\u001b[0mlower\u001b[0m\u001b[0;34m(\u001b[0m\u001b[0;34m)\u001b[0m \u001b[0;34m==\u001b[0m \u001b[0;34m\"y\"\u001b[0m\u001b[0;34m:\u001b[0m\u001b[0;34m\u001b[0m\u001b[0;34m\u001b[0m\u001b[0m\n\u001b[0;32m----> 8\u001b[0;31m     \u001b[0mcomparison\u001b[0m\u001b[0;34m(\u001b[0m\u001b[0;34m)\u001b[0m\u001b[0;34m\u001b[0m\u001b[0;34m\u001b[0m\u001b[0m\n\u001b[0m\u001b[1;32m      9\u001b[0m   \u001b[0;32melif\u001b[0m \u001b[0mrp\u001b[0m\u001b[0;34m.\u001b[0m\u001b[0mlower\u001b[0m\u001b[0;34m(\u001b[0m\u001b[0;34m)\u001b[0m \u001b[0;34m==\u001b[0m \u001b[0;34m\"no\"\u001b[0m \u001b[0;32mor\u001b[0m \u001b[0mrp\u001b[0m\u001b[0;34m.\u001b[0m\u001b[0mlower\u001b[0m\u001b[0;34m(\u001b[0m\u001b[0;34m)\u001b[0m \u001b[0;34m==\u001b[0m \u001b[0;34m\"n\"\u001b[0m\u001b[0;34m:\u001b[0m\u001b[0;34m\u001b[0m\u001b[0;34m\u001b[0m\u001b[0m\n\u001b[1;32m     10\u001b[0m     \u001b[0mprint\u001b[0m\u001b[0;34m(\u001b[0m\u001b[0;34m\"Too bad you can't play, maybe another time!\"\u001b[0m\u001b[0;34m)\u001b[0m\u001b[0;34m\u001b[0m\u001b[0;34m\u001b[0m\u001b[0m\n",
            "\u001b[0;32m<ipython-input-44-59a17b621e7f>\u001b[0m in \u001b[0;36mcomparison\u001b[0;34m()\u001b[0m\n\u001b[1;32m     49\u001b[0m   \u001b[0mlimit\u001b[0m \u001b[0;34m=\u001b[0m \u001b[0mlimiting_try\u001b[0m\u001b[0;34m(\u001b[0m\u001b[0;34m)\u001b[0m\u001b[0;34m\u001b[0m\u001b[0;34m\u001b[0m\u001b[0m\n\u001b[1;32m     50\u001b[0m   \u001b[0mrd\u001b[0m \u001b[0;34m=\u001b[0m \u001b[0mrandom_number\u001b[0m\u001b[0;34m(\u001b[0m\u001b[0;34m)\u001b[0m\u001b[0;34m\u001b[0m\u001b[0;34m\u001b[0m\u001b[0m\n\u001b[0;32m---> 51\u001b[0;31m   \u001b[0mgiving\u001b[0m \u001b[0;34m=\u001b[0m \u001b[0mnumber_giving\u001b[0m\u001b[0;34m(\u001b[0m\u001b[0;34m)\u001b[0m\u001b[0;34m\u001b[0m\u001b[0;34m\u001b[0m\u001b[0m\n\u001b[0m\u001b[1;32m     52\u001b[0m   \u001b[0;32mwhile\u001b[0m \u001b[0;34m(\u001b[0m\u001b[0mgiving\u001b[0m \u001b[0;34m!=\u001b[0m \u001b[0mrd\u001b[0m\u001b[0;34m)\u001b[0m\u001b[0;34m:\u001b[0m\u001b[0;34m\u001b[0m\u001b[0;34m\u001b[0m\u001b[0m\n\u001b[1;32m     53\u001b[0m     \u001b[0;32mif\u001b[0m \u001b[0;34m(\u001b[0m \u001b[0mgiving\u001b[0m \u001b[0;34m<\u001b[0m \u001b[0mrd\u001b[0m \u001b[0;34m<=\u001b[0m \u001b[0;36m10\u001b[0m\u001b[0;34m)\u001b[0m \u001b[0;32mand\u001b[0m \u001b[0;34m(\u001b[0m\u001b[0mcompteur\u001b[0m \u001b[0;34m<=\u001b[0m\u001b[0mlimit\u001b[0m\u001b[0;34m-\u001b[0m\u001b[0;36m1\u001b[0m\u001b[0;34m)\u001b[0m \u001b[0;34m:\u001b[0m\u001b[0;34m\u001b[0m\u001b[0;34m\u001b[0m\u001b[0m\n",
            "\u001b[0;32m<ipython-input-44-59a17b621e7f>\u001b[0m in \u001b[0;36mnumber_giving\u001b[0;34m()\u001b[0m\n\u001b[1;32m     39\u001b[0m \u001b[0;34m\u001b[0m\u001b[0m\n\u001b[1;32m     40\u001b[0m \u001b[0;32mdef\u001b[0m \u001b[0mnumber_giving\u001b[0m\u001b[0;34m(\u001b[0m\u001b[0;34m)\u001b[0m\u001b[0;34m:\u001b[0m\u001b[0;34m\u001b[0m\u001b[0;34m\u001b[0m\u001b[0m\n\u001b[0;32m---> 41\u001b[0;31m   \u001b[0mrep\u001b[0m \u001b[0;34m=\u001b[0m\u001b[0mint\u001b[0m\u001b[0;34m(\u001b[0m\u001b[0minput\u001b[0m\u001b[0;34m(\u001b[0m\u001b[0;34m'Ready? Please enter a number between 1 to 10: '\u001b[0m\u001b[0;34m)\u001b[0m\u001b[0;34m)\u001b[0m\u001b[0;34m\u001b[0m\u001b[0;34m\u001b[0m\u001b[0m\n\u001b[0m\u001b[1;32m     42\u001b[0m   \u001b[0;32mreturn\u001b[0m \u001b[0mrep\u001b[0m\u001b[0;34m\u001b[0m\u001b[0;34m\u001b[0m\u001b[0m\n\u001b[1;32m     43\u001b[0m \u001b[0;34m\u001b[0m\u001b[0m\n",
            "\u001b[0;31mValueError\u001b[0m: invalid literal for int() with base 10: 'f'"
          ]
        }
      ],
      "source": [
        "combination()"
      ]
    }
  ],
  "metadata": {
    "colab": {
      "provenance": [],
      "authorship_tag": "ABX9TyO8DaSnPSRK9Z8X69t/EjSi",
      "include_colab_link": true
    },
    "kernelspec": {
      "display_name": "Python 3",
      "name": "python3"
    },
    "language_info": {
      "name": "python"
    }
  },
  "nbformat": 4,
  "nbformat_minor": 0
}