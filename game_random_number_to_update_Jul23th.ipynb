{
  "cells": [
    {
      "cell_type": "markdown",
      "metadata": {
        "id": "view-in-github",
        "colab_type": "text"
      },
      "source": [
        "<a href=\"https://colab.research.google.com/github/fredousaintelus/dotfiles/blob/master/game_random_number_to_update_Jul23th.ipynb\" target=\"_parent\"><img src=\"https://colab.research.google.com/assets/colab-badge.svg\" alt=\"Open In Colab\"/></a>"
      ]
    },
    {
      "cell_type": "code",
      "execution_count": 5,
      "metadata": {
        "id": "U8_aPkV0MP1N"
      },
      "outputs": [],
      "source": [
        "import random"
      ]
    },
    {
      "cell_type": "code",
      "execution_count": 69,
      "metadata": {
        "id": "JuezmGxdMVnh"
      },
      "outputs": [],
      "source": [
        "def first_phrase():\n",
        "  print(\"\"\"Hi! Let us play a little game.\n",
        "  We'll start with you tring to guess a number between 1 and 10 that I will pick randomly, alright.\"\"\")\n",
        "\n",
        "def second_phrase()-> str:\n",
        "  response = input('So, do you wanna keep on? (Yes or No) ')\n",
        "  return response\n",
        "\n",
        "def choosing_level():\n",
        "    rep = input(\"\"\"Choose:\n",
        "    1 for easy level\n",
        "    2 for medium level\n",
        "    3 for difficult level \"\"\")\n",
        "    while rep not in [\"1\",\"2\",\"3\"]:\n",
        "      rep = input(\"\"\"Wrong entry! Please Choose:\n",
        "    1 for easy level\n",
        "    2 for medium level\n",
        "    3 for difficult level \"\"\")\n",
        "    return rep\n",
        "\n",
        "\n",
        "\n",
        "def limiting_try()-> int:\n",
        "  limit =1\n",
        "  choice = choosing_level()\n",
        "  if choice== \"1\":\n",
        "     limit = 10\n",
        "     print(f\"You've chosen to play it easy, you have {limit} guesses!\")\n",
        "  elif choice == \"2\":\n",
        "      limit =5\n",
        "      print(f\"You've chosen to play it medium, you have {limit} guesses!\")\n",
        "  else:\n",
        "      limit =3\n",
        "      print(f\"You've chosen to play it hard, you have only {limit} guesses!\")\n",
        "  return limit\n",
        "\n",
        "def random_number()-> int:\n",
        "  return random.randint(1, 10)\n",
        "\n",
        "def number_giving():\n",
        "  try:\n",
        "    rep =int(input('Ready? Please enter a number between 1 to 10: '))\n",
        "  except ValueError as ve:\n",
        "    rep =int(input('you have not picked a number and this will not count for this time but please enter a number between 1 to 10: '))\n",
        "  return rep\n",
        "\n",
        "\n",
        "\n",
        "\n",
        "def comparison():\n",
        "  compteur =1\n",
        "  limit = limiting_try()\n",
        "  rd = random_number()\n",
        "  giving = number_giving()\n",
        "\n",
        "  while (giving != rd):\n",
        "    if ( giving < rd <= 10) and (compteur <=limit-1) :\n",
        "      try:\n",
        "        giving =int(input('You guessed wrong, please enter a greater number : '))\n",
        "      except ValueError as ve:\n",
        "        giving =int(input('wrong entry, please enter a number between 1 to 10 : '))\n",
        "      compteur= compteur+1\n",
        "\n",
        "    elif (10>= giving > rd)and (compteur <= limit-1) :\n",
        "      try:\n",
        "        giving =int(input('You guessed wrong, please enter a smaller number : '))\n",
        "      except ValueError as ve:\n",
        "        giving =int(input('wrong entry, please enter a number between 1 to 10 : '))\n",
        "      compteur= compteur+1\n",
        "\n",
        "    elif (compteur >limit-1):\n",
        "      print(\"\"\"sorry, you guessed wrong and you have exhausted your number of tries!\n",
        "      End of the game\"\"\")\n",
        "      break\n",
        "\n",
        "    else:\n",
        "      try:\n",
        "        giving =int((input('You went out of range, please enter a number between 1 and 10 : ')))\n",
        "      except ValueError as ve:\n",
        "        giving =int(input('wrong entry, please enter a number between 1 to 10 : '))\n",
        "      compteur= compteur+1\n",
        "\n",
        "  if giving == rd:\n",
        "    print(\"\"\"You guessed right, congrats.\n",
        "  End of the game!\"\"\")\n"
      ]
    },
    {
      "cell_type": "code",
      "execution_count": 70,
      "metadata": {
        "id": "_bykpI8TMYjC"
      },
      "outputs": [],
      "source": [
        "def combination ():\n",
        "  first_phrase()\n",
        "  rp = second_phrase()\n",
        "  while rp.lower() not in (\"yes\",\"y\",\"n\",\"no\"):\n",
        "    rp = input(\"Please enter yes[y] or no[n]\")\n",
        "\n",
        "  if rp.lower() == \"yes\" or rp.lower() == \"y\":\n",
        "    comparison()\n",
        "  elif rp.lower() == \"no\" or rp.lower() == \"n\":\n",
        "    print(\"Too bad you can't play, maybe another time!\")"
      ]
    },
    {
      "cell_type": "code",
      "execution_count": 71,
      "metadata": {
        "colab": {
          "base_uri": "https://localhost:8080/",
          "height": 599
        },
        "id": "mwAXrOLuMby1",
        "outputId": "4ed8226e-4894-4acc-dc79-ba3fc039df54"
      },
      "outputs": [
        {
          "name": "stdout",
          "output_type": "stream",
          "text": [
            "Hi! Let us play a little game.\n",
            "  We'll start with you tring to guess a number between 1 and 10 that I will pick randomly, alright.\n",
            "So, do you wanna keep on? (Yes or No) y\n",
            "Choose:\n",
            "    1 for easy level\n",
            "    2 for medium level\n",
            "    3 for difficult level 3\n",
            "You've chosen to play it hard, you have only 3 guesses!\n",
            "Ready? Please enter a number between 1 to 10: 90\n",
            "You went out of range, please enter a number between 1 and 10 : g\n",
            "wrong entry, please enter a number between 1 to 10 : u\n"
          ]
        },
        {
          "output_type": "error",
          "ename": "ValueError",
          "evalue": "invalid literal for int() with base 10: 'u'",
          "traceback": [
            "\u001b[0;31m---------------------------------------------------------------------------\u001b[0m",
            "\u001b[0;31mValueError\u001b[0m                                Traceback (most recent call last)",
            "\u001b[0;32m<ipython-input-69-856cf7f507bf>\u001b[0m in \u001b[0;36mcomparison\u001b[0;34m()\u001b[0m\n\u001b[1;32m     77\u001b[0m       \u001b[0;32mtry\u001b[0m\u001b[0;34m:\u001b[0m\u001b[0;34m\u001b[0m\u001b[0;34m\u001b[0m\u001b[0m\n\u001b[0;32m---> 78\u001b[0;31m         \u001b[0mgiving\u001b[0m \u001b[0;34m=\u001b[0m\u001b[0mint\u001b[0m\u001b[0;34m(\u001b[0m\u001b[0;34m(\u001b[0m\u001b[0minput\u001b[0m\u001b[0;34m(\u001b[0m\u001b[0;34m'You went out of range, please enter a number between 1 and 10 : '\u001b[0m\u001b[0;34m)\u001b[0m\u001b[0;34m)\u001b[0m\u001b[0;34m)\u001b[0m\u001b[0;34m\u001b[0m\u001b[0;34m\u001b[0m\u001b[0m\n\u001b[0m\u001b[1;32m     79\u001b[0m       \u001b[0;32mexcept\u001b[0m \u001b[0mValueError\u001b[0m \u001b[0;32mas\u001b[0m \u001b[0mve\u001b[0m\u001b[0;34m:\u001b[0m\u001b[0;34m\u001b[0m\u001b[0;34m\u001b[0m\u001b[0m\n",
            "\u001b[0;31mValueError\u001b[0m: invalid literal for int() with base 10: 'g'",
            "\nDuring handling of the above exception, another exception occurred:\n",
            "\u001b[0;31mValueError\u001b[0m                                Traceback (most recent call last)",
            "\u001b[0;32m<ipython-input-71-3a1075ba1168>\u001b[0m in \u001b[0;36m<cell line: 1>\u001b[0;34m()\u001b[0m\n\u001b[0;32m----> 1\u001b[0;31m \u001b[0mcombination\u001b[0m\u001b[0;34m(\u001b[0m\u001b[0;34m)\u001b[0m\u001b[0;34m\u001b[0m\u001b[0;34m\u001b[0m\u001b[0m\n\u001b[0m\u001b[1;32m      2\u001b[0m \u001b[0;31m##number_giving()\u001b[0m\u001b[0;34m\u001b[0m\u001b[0;34m\u001b[0m\u001b[0m\n",
            "\u001b[0;32m<ipython-input-70-f5bb0d73814c>\u001b[0m in \u001b[0;36mcombination\u001b[0;34m()\u001b[0m\n\u001b[1;32m      6\u001b[0m \u001b[0;34m\u001b[0m\u001b[0m\n\u001b[1;32m      7\u001b[0m   \u001b[0;32mif\u001b[0m \u001b[0mrp\u001b[0m\u001b[0;34m.\u001b[0m\u001b[0mlower\u001b[0m\u001b[0;34m(\u001b[0m\u001b[0;34m)\u001b[0m \u001b[0;34m==\u001b[0m \u001b[0;34m\"yes\"\u001b[0m \u001b[0;32mor\u001b[0m \u001b[0mrp\u001b[0m\u001b[0;34m.\u001b[0m\u001b[0mlower\u001b[0m\u001b[0;34m(\u001b[0m\u001b[0;34m)\u001b[0m \u001b[0;34m==\u001b[0m \u001b[0;34m\"y\"\u001b[0m\u001b[0;34m:\u001b[0m\u001b[0;34m\u001b[0m\u001b[0;34m\u001b[0m\u001b[0m\n\u001b[0;32m----> 8\u001b[0;31m     \u001b[0mcomparison\u001b[0m\u001b[0;34m(\u001b[0m\u001b[0;34m)\u001b[0m\u001b[0;34m\u001b[0m\u001b[0;34m\u001b[0m\u001b[0m\n\u001b[0m\u001b[1;32m      9\u001b[0m   \u001b[0;32melif\u001b[0m \u001b[0mrp\u001b[0m\u001b[0;34m.\u001b[0m\u001b[0mlower\u001b[0m\u001b[0;34m(\u001b[0m\u001b[0;34m)\u001b[0m \u001b[0;34m==\u001b[0m \u001b[0;34m\"no\"\u001b[0m \u001b[0;32mor\u001b[0m \u001b[0mrp\u001b[0m\u001b[0;34m.\u001b[0m\u001b[0mlower\u001b[0m\u001b[0;34m(\u001b[0m\u001b[0;34m)\u001b[0m \u001b[0;34m==\u001b[0m \u001b[0;34m\"n\"\u001b[0m\u001b[0;34m:\u001b[0m\u001b[0;34m\u001b[0m\u001b[0;34m\u001b[0m\u001b[0m\n\u001b[1;32m     10\u001b[0m     \u001b[0mprint\u001b[0m\u001b[0;34m(\u001b[0m\u001b[0;34m\"Too bad you can't play, maybe another time!\"\u001b[0m\u001b[0;34m)\u001b[0m\u001b[0;34m\u001b[0m\u001b[0;34m\u001b[0m\u001b[0m\n",
            "\u001b[0;32m<ipython-input-69-856cf7f507bf>\u001b[0m in \u001b[0;36mcomparison\u001b[0;34m()\u001b[0m\n\u001b[1;32m     78\u001b[0m         \u001b[0mgiving\u001b[0m \u001b[0;34m=\u001b[0m\u001b[0mint\u001b[0m\u001b[0;34m(\u001b[0m\u001b[0;34m(\u001b[0m\u001b[0minput\u001b[0m\u001b[0;34m(\u001b[0m\u001b[0;34m'You went out of range, please enter a number between 1 and 10 : '\u001b[0m\u001b[0;34m)\u001b[0m\u001b[0;34m)\u001b[0m\u001b[0;34m)\u001b[0m\u001b[0;34m\u001b[0m\u001b[0;34m\u001b[0m\u001b[0m\n\u001b[1;32m     79\u001b[0m       \u001b[0;32mexcept\u001b[0m \u001b[0mValueError\u001b[0m \u001b[0;32mas\u001b[0m \u001b[0mve\u001b[0m\u001b[0;34m:\u001b[0m\u001b[0;34m\u001b[0m\u001b[0;34m\u001b[0m\u001b[0m\n\u001b[0;32m---> 80\u001b[0;31m         \u001b[0mgiving\u001b[0m \u001b[0;34m=\u001b[0m\u001b[0mint\u001b[0m\u001b[0;34m(\u001b[0m\u001b[0minput\u001b[0m\u001b[0;34m(\u001b[0m\u001b[0;34m'wrong entry, please enter a number between 1 to 10 : '\u001b[0m\u001b[0;34m)\u001b[0m\u001b[0;34m)\u001b[0m\u001b[0;34m\u001b[0m\u001b[0;34m\u001b[0m\u001b[0m\n\u001b[0m\u001b[1;32m     81\u001b[0m       \u001b[0mcompteur\u001b[0m\u001b[0;34m=\u001b[0m \u001b[0mcompteur\u001b[0m\u001b[0;34m+\u001b[0m\u001b[0;36m1\u001b[0m\u001b[0;34m\u001b[0m\u001b[0;34m\u001b[0m\u001b[0m\n\u001b[1;32m     82\u001b[0m \u001b[0;34m\u001b[0m\u001b[0m\n",
            "\u001b[0;31mValueError\u001b[0m: invalid literal for int() with base 10: 'u'"
          ]
        }
      ],
      "source": [
        "combination()\n",
        "##number_giving()"
      ]
    }
  ],
  "metadata": {
    "colab": {
      "provenance": [],
      "authorship_tag": "ABX9TyPKzX2CIKxcveJFDj5dHy9a",
      "include_colab_link": true
    },
    "kernelspec": {
      "display_name": "Python 3",
      "name": "python3"
    },
    "language_info": {
      "name": "python"
    }
  },
  "nbformat": 4,
  "nbformat_minor": 0
}