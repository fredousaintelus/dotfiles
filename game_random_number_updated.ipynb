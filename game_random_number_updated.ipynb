{
  "nbformat": 4,
  "nbformat_minor": 0,
  "metadata": {
    "colab": {
      "provenance": [],
      "authorship_tag": "ABX9TyNor0ETPdm4HS7NoAI7QyjQ",
      "include_colab_link": true
    },
    "kernelspec": {
      "name": "python3",
      "display_name": "Python 3"
    },
    "language_info": {
      "name": "python"
    }
  },
  "cells": [
    {
      "cell_type": "markdown",
      "metadata": {
        "id": "view-in-github",
        "colab_type": "text"
      },
      "source": [
        "<a href=\"https://colab.research.google.com/github/fredousaintelus/dotfiles/blob/master/game_random_number_updated.ipynb\" target=\"_parent\"><img src=\"https://colab.research.google.com/assets/colab-badge.svg\" alt=\"Open In Colab\"/></a>"
      ]
    },
    {
      "cell_type": "code",
      "execution_count": 29,
      "metadata": {
        "id": "U8_aPkV0MP1N"
      },
      "outputs": [],
      "source": [
        "import random"
      ]
    },
    {
      "cell_type": "code",
      "source": [
        "def first_phrase():\n",
        "  print(\"\"\"Hi! Let us play a little game.\n",
        "  We'll start with you tring to guess a number between 1 and 10 that I will pick randomly, alright.\"\"\")\n",
        "\n",
        "def second_phrase()-> str:\n",
        "  response = input('So, do you wanna keep on? (Yes or No) ')\n",
        "  return response\n",
        "\n",
        "def choosing_level()-> int:\n",
        "    rep = int(input(\"\"\"Choose:\n",
        "    1 for easy level\n",
        "    2 for medium level\n",
        "    3 for difficult level \"\"\"))\n",
        "    while rep not in [1,2,3]:\n",
        "      rep = int(input(\"\"\"Wrong entry! Please Choose:\n",
        "    1 for easy level\n",
        "    2 for medium level\n",
        "    3 for difficult level \"\"\"))\n",
        "    return rep\n",
        "\n",
        "def limiting_try()-> int:\n",
        "  limit =1\n",
        "  choice = choosing_level()\n",
        "  if choice==1:\n",
        "     limit = 20\n",
        "  elif choice == 2:\n",
        "      limit =10\n",
        "  else:\n",
        "      limit =5\n",
        "  return limit\n",
        "\n",
        "def random_number()-> int:\n",
        "  return random.randint(1, 10)\n",
        "\n",
        "def number_giving()-> int:\n",
        "  rep =int(input('Ready? Please enter a number between 1 to 10: '))\n",
        "  return rep\n",
        "\n",
        "\n",
        "def comparison():\n",
        "  compteur =1\n",
        "  limit = limiting_try()\n",
        "  rd = random_number()\n",
        "  giving = number_giving()\n",
        "  while giving != rd :\n",
        "    if (giving < rd) and (compteur <limit) :\n",
        "      giving =int(input('You guessed wrong, please enter a greater number : '))\n",
        "      compteur= compteur+1\n",
        "    elif (giving > rd)and (compteur <limit) :\n",
        "      giving =int(input('You guessed wrong, please enter a smaller number : '))\n",
        "      compteur= compteur+1\n",
        "    else:\n",
        "      print(\"\"\"sorry, you have exhausted your number of tries!\n",
        "      End of the game\"\"\")\n",
        "      break\n",
        "\n",
        "  if giving == rd:\n",
        "    print(\"\"\"You guessed right, congrats.\n",
        "  End of the game.\"\"\")\n"
      ],
      "metadata": {
        "id": "JuezmGxdMVnh"
      },
      "execution_count": 52,
      "outputs": []
    },
    {
      "cell_type": "code",
      "source": [
        "def combination ():\n",
        "  first_phrase()\n",
        "  rp = second_phrase()\n",
        "  if rp.lower() == \"yes\":\n",
        "    comparison()\n",
        "  else :\n",
        "    print(\"Too bad, maybe another time!\")"
      ],
      "metadata": {
        "id": "_bykpI8TMYjC"
      },
      "execution_count": 53,
      "outputs": []
    },
    {
      "cell_type": "code",
      "source": [
        "combination()"
      ],
      "metadata": {
        "colab": {
          "base_uri": "https://localhost:8080/"
        },
        "id": "mwAXrOLuMby1",
        "outputId": "75bad4dd-ee66-4559-cccf-14e1dc1f4731"
      },
      "execution_count": null,
      "outputs": [
        {
          "metadata": {
            "tags": null
          },
          "name": "stdout",
          "output_type": "stream",
          "text": [
            "Hi! Let us play a little game.\n",
            "  We'll start with you tring to guess a number between 1 and 10 that I will pick randomly, alright.\n"
          ]
        }
      ]
    }
  ]
}