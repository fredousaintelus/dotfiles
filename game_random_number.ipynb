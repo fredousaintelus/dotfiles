{
  "nbformat": 4,
  "nbformat_minor": 0,
  "metadata": {
    "colab": {
      "provenance": [],
      "authorship_tag": "ABX9TyOmiRljjD7wI/BSdEMS1t3g",
      "include_colab_link": true
    },
    "kernelspec": {
      "name": "python3",
      "display_name": "Python 3"
    },
    "language_info": {
      "name": "python"
    }
  },
  "cells": [
    {
      "cell_type": "markdown",
      "metadata": {
        "id": "view-in-github",
        "colab_type": "text"
      },
      "source": [
        "<a href=\"https://colab.research.google.com/github/fredousaintelus/dotfiles/blob/master/game_random_number.ipynb\" target=\"_parent\"><img src=\"https://colab.research.google.com/assets/colab-badge.svg\" alt=\"Open In Colab\"/></a>"
      ]
    },
    {
      "cell_type": "code",
      "execution_count": 1,
      "metadata": {
        "id": "U8_aPkV0MP1N"
      },
      "outputs": [],
      "source": [
        "import random"
      ]
    },
    {
      "cell_type": "code",
      "source": [
        "def first_phrase():\n",
        "  print(\"\"\"Hi! Let us play a little game.\n",
        "  We'll start with you tring to guess a number between 1 and 10 that I will pick randomly, alright.\"\"\")\n",
        "\n",
        "def second_phrase()-> str:\n",
        "  response = input('So, do you wanna keep on? (Yes or No) ')\n",
        "  return response\n",
        "\n",
        "def random_number()-> int:\n",
        "  return random.randint(1, 10)\n",
        "\n",
        "def number_giving()-> int:\n",
        "  rep =int(input('Ready? Please enter a number between 1 to 10: '))\n",
        "  return rep\n",
        "\n",
        "def comparison():\n",
        "  rd = random_number()\n",
        "  giving = number_giving()\n",
        "  while giving != rd :\n",
        "    if giving < rd:\n",
        "      giving =int(input('You guessed wrong, please enter a greater number : '))\n",
        "    elif giving > rd:\n",
        "      giving =int(input('You guessed wrong, please enter a smaller number : '))\n",
        "\n",
        "  print(\"\"\"You guessed right, congrats.\n",
        "  End of the game.\"\"\")\n"
      ],
      "metadata": {
        "id": "JuezmGxdMVnh"
      },
      "execution_count": 6,
      "outputs": []
    },
    {
      "cell_type": "code",
      "source": [
        "def combination ():\n",
        "  first_phrase()\n",
        "  rp = second_phrase()\n",
        "  if rp.lower() == \"yes\":\n",
        "     comparison()\n",
        "  else :\n",
        "    print(\"Maybe another time!\")"
      ],
      "metadata": {
        "id": "_bykpI8TMYjC"
      },
      "execution_count": 3,
      "outputs": []
    },
    {
      "cell_type": "code",
      "source": [
        "combination(\n",
        "\n",
        ")"
      ],
      "metadata": {
        "colab": {
          "base_uri": "https://localhost:8080/"
        },
        "id": "mwAXrOLuMby1",
        "outputId": "0e0a0d18-ac75-41de-882a-e85748559053"
      },
      "execution_count": 5,
      "outputs": [
        {
          "output_type": "stream",
          "name": "stdout",
          "text": [
            "Hi! Let us play a little game.\n",
            "  We'll start with you tring to guess a number between 1 and 10 that I will pick randomly, alright.\n",
            "So, do you wanna keep on? (Yes or No) yes\n",
            "Ready? Please enter a number between 1 to 10: 4\n",
            "You guessed wrong, please enter a greater number : 3\n",
            "You guessed wrong, please enter a greater number : 5\n",
            "You guessed wrong, please enter a greater number : 6\n",
            "You guessed right, congrats.\n",
            "  End of the game\n"
          ]
        }
      ]
    }
  ]
}