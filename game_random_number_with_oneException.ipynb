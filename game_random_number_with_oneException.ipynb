{
  "cells": [
    {
      "cell_type": "markdown",
      "metadata": {
        "id": "view-in-github",
        "colab_type": "text"
      },
      "source": [
        "<a href=\"https://colab.research.google.com/github/fredousaintelus/dotfiles/blob/master/game_random_number_with_oneException.ipynb\" target=\"_parent\"><img src=\"https://colab.research.google.com/assets/colab-badge.svg\" alt=\"Open In Colab\"/></a>"
      ]
    },
    {
      "cell_type": "code",
      "execution_count": 5,
      "metadata": {
        "id": "U8_aPkV0MP1N"
      },
      "outputs": [],
      "source": [
        "import random"
      ]
    },
    {
      "cell_type": "code",
      "execution_count": 58,
      "metadata": {
        "id": "JuezmGxdMVnh"
      },
      "outputs": [],
      "source": [
        "def first_phrase():\n",
        "  print(\"\"\"Hi! Let us play a little game.\n",
        "  We'll start with you tring to guess a number between 1 and 10 that I will pick randomly, alright.\"\"\")\n",
        "\n",
        "def second_phrase()-> str:\n",
        "  response = input('So, do you wanna keep on? (Yes or No) ')\n",
        "  return response\n",
        "\n",
        "def choosing_level():\n",
        "    rep = input(\"\"\"Choose:\n",
        "    1 for easy level\n",
        "    2 for medium level\n",
        "    3 for difficult level \"\"\")\n",
        "    while rep not in [\"1\",\"2\",\"3\"]:\n",
        "      rep = input(\"\"\"Wrong entry! Please Choose:\n",
        "    1 for easy level\n",
        "    2 for medium level\n",
        "    3 for difficult level \"\"\")\n",
        "    return rep\n",
        "\n",
        "\n",
        "\n",
        "def limiting_try()-> int:\n",
        "  limit =1\n",
        "  choice = choosing_level()\n",
        "  if choice== \"1\":\n",
        "     limit = 10\n",
        "     print(f\"You've chosen to play it easy, you have {limit} guesses!\")\n",
        "  elif choice == \"2\":\n",
        "      limit =5\n",
        "      print(f\"You've chosen to play it medium, you have {limit} guesses!\")\n",
        "  else:\n",
        "      limit =3\n",
        "      print(f\"You've chosen to play it hard, you have only {limit} guesses!\")\n",
        "  return limit\n",
        "\n",
        "def random_number()-> int:\n",
        "  return random.randint(1, 10)\n",
        "\n",
        "def number_giving():\n",
        "  try:\n",
        "    rep =int(input('Ready? Please enter a number between 1 to 10: '))\n",
        "  except ValueError as ve:\n",
        "    rep =int(input('you have not picked a number. Please enter a number between 1 to 10: '))\n",
        "  return rep\n",
        "\n",
        "\n",
        "\n",
        "\n",
        "def comparison():\n",
        "  compteur =1\n",
        "  limit = limiting_try()\n",
        "  rd = random_number()\n",
        "  giving = number_giving()\n",
        "  while (giving != rd):\n",
        "    if ( giving < rd <= 10) and (compteur <=limit-1) :\n",
        "      giving =int(input('You guessed wrong, please enter a greater number : '))\n",
        "      compteur= compteur+1\n",
        "    elif (10>= giving > rd)and (compteur <= limit-1) :\n",
        "      giving =int(input('You guessed wrong, please enter a smaller number : '))\n",
        "      compteur= compteur+1\n",
        "    elif (compteur >limit-1):\n",
        "      print(\"\"\"sorry, you guessed wrong and you have exhausted your number of tries!\n",
        "      End of the game\"\"\")\n",
        "      break\n",
        "    else:\n",
        "      giving =int((input('You went out of range, please enter a number between 1 and 10 : ')))\n",
        "      compteur= compteur+1\n",
        "\n",
        "  if giving == rd:\n",
        "    print(\"\"\"You guessed right, congrats.\n",
        "  End of the game!\"\"\")\n"
      ]
    },
    {
      "cell_type": "code",
      "execution_count": 59,
      "metadata": {
        "id": "_bykpI8TMYjC"
      },
      "outputs": [],
      "source": [
        "def combination ():\n",
        "  first_phrase()\n",
        "  rp = second_phrase()\n",
        "  while rp.lower() not in (\"yes\",\"y\",\"n\",\"no\"):\n",
        "    rp = input(\"Please enter yes[y] or no[n]\")\n",
        "\n",
        "  if rp.lower() == \"yes\" or rp.lower() == \"y\":\n",
        "    comparison()\n",
        "  elif rp.lower() == \"no\" or rp.lower() == \"n\":\n",
        "    print(\"Too bad you can't play, maybe another time!\")"
      ]
    },
    {
      "cell_type": "code",
      "execution_count": 60,
      "metadata": {
        "colab": {
          "base_uri": "https://localhost:8080/",
          "height": 512
        },
        "id": "mwAXrOLuMby1",
        "outputId": "4aa71122-8d84-4d8e-8b78-118375bfab6c"
      },
      "outputs": [
        {
          "name": "stdout",
          "output_type": "stream",
          "text": [
            "Hi! Let us play a little game.\n",
            "  We'll start with you tring to guess a number between 1 and 10 that I will pick randomly, alright.\n",
            "So, do you wanna keep on? (Yes or No) j\n",
            "Please enter yes[y] or no[n]y\n",
            "Choose:\n",
            "    1 for easy level\n",
            "    2 for medium level\n",
            "    3 for difficult level 3\n",
            "You've chosen to play it hard, you have only 3 guesses!\n",
            "Ready? Please enter a number between 1 to 10: g\n",
            "you have not picked a number. Please enter a number between 1 to 10: 87\n",
            "You went out of range, please enter a number between 1 and 10 : g\n"
          ]
        },
        {
          "output_type": "error",
          "ename": "ValueError",
          "evalue": "invalid literal for int() with base 10: 'g'",
          "traceback": [
            "\u001b[0;31m---------------------------------------------------------------------------\u001b[0m",
            "\u001b[0;31mValueError\u001b[0m                                Traceback (most recent call last)",
            "\u001b[0;32m<ipython-input-60-3a1075ba1168>\u001b[0m in \u001b[0;36m<cell line: 1>\u001b[0;34m()\u001b[0m\n\u001b[0;32m----> 1\u001b[0;31m \u001b[0mcombination\u001b[0m\u001b[0;34m(\u001b[0m\u001b[0;34m)\u001b[0m\u001b[0;34m\u001b[0m\u001b[0;34m\u001b[0m\u001b[0m\n\u001b[0m\u001b[1;32m      2\u001b[0m \u001b[0;31m##number_giving()\u001b[0m\u001b[0;34m\u001b[0m\u001b[0;34m\u001b[0m\u001b[0m\n",
            "\u001b[0;32m<ipython-input-59-f5bb0d73814c>\u001b[0m in \u001b[0;36mcombination\u001b[0;34m()\u001b[0m\n\u001b[1;32m      6\u001b[0m \u001b[0;34m\u001b[0m\u001b[0m\n\u001b[1;32m      7\u001b[0m   \u001b[0;32mif\u001b[0m \u001b[0mrp\u001b[0m\u001b[0;34m.\u001b[0m\u001b[0mlower\u001b[0m\u001b[0;34m(\u001b[0m\u001b[0;34m)\u001b[0m \u001b[0;34m==\u001b[0m \u001b[0;34m\"yes\"\u001b[0m \u001b[0;32mor\u001b[0m \u001b[0mrp\u001b[0m\u001b[0;34m.\u001b[0m\u001b[0mlower\u001b[0m\u001b[0;34m(\u001b[0m\u001b[0;34m)\u001b[0m \u001b[0;34m==\u001b[0m \u001b[0;34m\"y\"\u001b[0m\u001b[0;34m:\u001b[0m\u001b[0;34m\u001b[0m\u001b[0;34m\u001b[0m\u001b[0m\n\u001b[0;32m----> 8\u001b[0;31m     \u001b[0mcomparison\u001b[0m\u001b[0;34m(\u001b[0m\u001b[0;34m)\u001b[0m\u001b[0;34m\u001b[0m\u001b[0;34m\u001b[0m\u001b[0m\n\u001b[0m\u001b[1;32m      9\u001b[0m   \u001b[0;32melif\u001b[0m \u001b[0mrp\u001b[0m\u001b[0;34m.\u001b[0m\u001b[0mlower\u001b[0m\u001b[0;34m(\u001b[0m\u001b[0;34m)\u001b[0m \u001b[0;34m==\u001b[0m \u001b[0;34m\"no\"\u001b[0m \u001b[0;32mor\u001b[0m \u001b[0mrp\u001b[0m\u001b[0;34m.\u001b[0m\u001b[0mlower\u001b[0m\u001b[0;34m(\u001b[0m\u001b[0;34m)\u001b[0m \u001b[0;34m==\u001b[0m \u001b[0;34m\"n\"\u001b[0m\u001b[0;34m:\u001b[0m\u001b[0;34m\u001b[0m\u001b[0;34m\u001b[0m\u001b[0m\n\u001b[1;32m     10\u001b[0m     \u001b[0mprint\u001b[0m\u001b[0;34m(\u001b[0m\u001b[0;34m\"Too bad you can't play, maybe another time!\"\u001b[0m\u001b[0;34m)\u001b[0m\u001b[0;34m\u001b[0m\u001b[0;34m\u001b[0m\u001b[0m\n",
            "\u001b[0;32m<ipython-input-58-9345340b1cd9>\u001b[0m in \u001b[0;36mcomparison\u001b[0;34m()\u001b[0m\n\u001b[1;32m     65\u001b[0m       \u001b[0;32mbreak\u001b[0m\u001b[0;34m\u001b[0m\u001b[0;34m\u001b[0m\u001b[0m\n\u001b[1;32m     66\u001b[0m     \u001b[0;32melse\u001b[0m\u001b[0;34m:\u001b[0m\u001b[0;34m\u001b[0m\u001b[0;34m\u001b[0m\u001b[0m\n\u001b[0;32m---> 67\u001b[0;31m       \u001b[0mgiving\u001b[0m \u001b[0;34m=\u001b[0m\u001b[0mint\u001b[0m\u001b[0;34m(\u001b[0m\u001b[0;34m(\u001b[0m\u001b[0minput\u001b[0m\u001b[0;34m(\u001b[0m\u001b[0;34m'You went out of range, please enter a number between 1 and 10 : '\u001b[0m\u001b[0;34m)\u001b[0m\u001b[0;34m)\u001b[0m\u001b[0;34m)\u001b[0m\u001b[0;34m\u001b[0m\u001b[0;34m\u001b[0m\u001b[0m\n\u001b[0m\u001b[1;32m     68\u001b[0m       \u001b[0mcompteur\u001b[0m\u001b[0;34m=\u001b[0m \u001b[0mcompteur\u001b[0m\u001b[0;34m+\u001b[0m\u001b[0;36m1\u001b[0m\u001b[0;34m\u001b[0m\u001b[0;34m\u001b[0m\u001b[0m\n\u001b[1;32m     69\u001b[0m \u001b[0;34m\u001b[0m\u001b[0m\n",
            "\u001b[0;31mValueError\u001b[0m: invalid literal for int() with base 10: 'g'"
          ]
        }
      ],
      "source": [
        "combination()\n",
        "##number_giving()"
      ]
    }
  ],
  "metadata": {
    "colab": {
      "provenance": [],
      "authorship_tag": "ABX9TyPn0zVlijc8plEcrnOSmXlF",
      "include_colab_link": true
    },
    "kernelspec": {
      "display_name": "Python 3",
      "name": "python3"
    },
    "language_info": {
      "name": "python"
    }
  },
  "nbformat": 4,
  "nbformat_minor": 0
}