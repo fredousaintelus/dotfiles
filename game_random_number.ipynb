{
  "cells": [
    {
      "cell_type": "markdown",
      "metadata": {
        "id": "view-in-github",
        "colab_type": "text"
      },
      "source": [
        "<a href=\"https://colab.research.google.com/github/fredousaintelus/dotfiles/blob/master/game_random_number.ipynb\" target=\"_parent\"><img src=\"https://colab.research.google.com/assets/colab-badge.svg\" alt=\"Open In Colab\"/></a>"
      ]
    },
    {
      "cell_type": "code",
      "execution_count": 1,
      "metadata": {
        "id": "U8_aPkV0MP1N"
      },
      "outputs": [],
      "source": [
        "import random"
      ]
    },
    {
      "cell_type": "code",
      "execution_count": 2,
      "metadata": {
        "id": "JuezmGxdMVnh"
      },
      "outputs": [],
      "source": [
        "def first_phrase():\n",
        "  print(\"\"\"Hi! Let us play a little game.\n",
        "  We'll start with you tring to guess a number between 1 and 10 that I will pick randomly, alright.\"\"\")\n",
        "\n",
        "def second_phrase()-> str:\n",
        "  response = input('So, do you wanna keep on? (Yes or No) ')\n",
        "  return response\n",
        "\n",
        "def choosing_level()-> int:\n",
        "    rep = int(input(\"\"\"Choose:\n",
        "    1 for easy level\n",
        "    2 for medium level\n",
        "    3 for difficult level \"\"\"))\n",
        "    while rep not in [1,2,3]:\n",
        "      rep = int(input(\"\"\"Wrong entry! Please Choose:\n",
        "    1 for easy level\n",
        "    2 for medium level\n",
        "    3 for difficult level \"\"\"))\n",
        "    return rep\n",
        "\n",
        "\n",
        "\n",
        "def limiting_try()-> int:\n",
        "  limit =1\n",
        "  choice = choosing_level()\n",
        "  if choice==1:\n",
        "     limit = 10\n",
        "     print(f\"You've chosen to play it easy, you have {limit} guesses!\")\n",
        "  elif choice == 2:\n",
        "      limit =5\n",
        "      print(f\"You've chosen to play it medium, you have {limit} guesses!\")\n",
        "  else:\n",
        "      limit =3\n",
        "      print(f\"You've chosen to play it hard, you have only {limit} guesses!\")\n",
        "  return limit\n",
        "\n",
        "def random_number()-> int:\n",
        "  return random.randint(1, 10)\n",
        "\n",
        "def number_giving():\n",
        "  rep =int(input('Ready? Please enter a number between 1 to 10: '))\n",
        "  return rep\n",
        "\n",
        "\n",
        "\n",
        "\n",
        "def comparison():\n",
        "  compteur =1\n",
        "  limit = limiting_try()\n",
        "  rd = random_number()\n",
        "  giving = number_giving()\n",
        "  while (giving != rd):\n",
        "    if (0 < giving < rd <= 10) and (compteur <limit) :\n",
        "      giving =int(input('You guessed wrong, please enter a greater number : '))\n",
        "      compteur= compteur+1\n",
        "    elif (10>= giving > rd>0)and (compteur <limit) :\n",
        "      giving =int(input('You guessed wrong, please enter a smaller number : '))\n",
        "      compteur= compteur+1\n",
        "    elif (compteur >limit):\n",
        "      print(\"\"\"sorry, you have exhausted your number of tries!\n",
        "      End of the game\"\"\")\n",
        "      break\n",
        "    else:\n",
        "      giving =(input('You went out of range, please enter a number between 1 and 10 : '))\n",
        "\n",
        "  if giving == rd:\n",
        "    print(\"\"\"You guessed right, congrats.\n",
        "  End of the game.\"\"\")\n"
      ]
    },
    {
      "cell_type": "code",
      "execution_count": 3,
      "metadata": {
        "id": "_bykpI8TMYjC"
      },
      "outputs": [],
      "source": [
        "def combination ():\n",
        "  first_phrase()\n",
        "  rp = second_phrase()\n",
        "  if rp.lower() == \"yes\":\n",
        "    comparison()\n",
        "  else :\n",
        "    print(\"Too bad, maybe another time!\")"
      ]
    },
    {
      "cell_type": "code",
      "execution_count": null,
      "metadata": {
        "colab": {
          "base_uri": "https://localhost:8080/"
        },
        "id": "mwAXrOLuMby1",
        "outputId": "ceb3a8d3-b08d-4aa1-bec5-30dc100836c7"
      },
      "outputs": [
        {
          "metadata": {
            "tags": null
          },
          "name": "stdout",
          "output_type": "stream",
          "text": [
            "Hi! Let us play a little game.\n",
            "  We'll start with you tring to guess a number between 1 and 10 that I will pick randomly, alright.\n",
            "You've chosen to play it easy, you have 10 guesses!\n"
          ]
        }
      ],
      "source": [
        "combination()"
      ]
    }
  ],
  "metadata": {
    "colab": {
      "provenance": [],
      "authorship_tag": "ABX9TyNMD1gwM4yWR40nNeKrLc+V",
      "include_colab_link": true
    },
    "kernelspec": {
      "display_name": "Python 3",
      "name": "python3"
    },
    "language_info": {
      "name": "python"
    }
  },
  "nbformat": 4,
  "nbformat_minor": 0
}